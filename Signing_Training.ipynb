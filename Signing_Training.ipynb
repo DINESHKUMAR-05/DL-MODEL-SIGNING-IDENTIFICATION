{
  "cells": [
    {
      "cell_type": "code",
      "execution_count": null,
      "metadata": {
        "colab": {
          "base_uri": "https://localhost:8080/"
        },
        "id": "luH9wvMUqnse",
        "outputId": "0b5cbf10-fcb0-4dff-a83e-4486c67b7971"
      },
      "outputs": [
        {
          "output_type": "stream",
          "name": "stdout",
          "text": [
            "Drive already mounted at /content/drive; to attempt to forcibly remount, call drive.mount(\"/content/drive\", force_remount=True).\n"
          ]
        }
      ],
      "source": [
        "from google.colab import drive\n",
        "drive.mount('/content/drive')"
      ]
    },
    {
      "cell_type": "code",
      "execution_count": null,
      "metadata": {
        "id": "Pq7jkMBeqAoI"
      },
      "outputs": [],
      "source": [
        "!unzip -q \"/content/drive/MyDrive/Final Dataset 2034016/data.zip\""
      ]
    },
    {
      "cell_type": "code",
      "execution_count": null,
      "metadata": {
        "id": "imKoK5CdmLu0"
      },
      "outputs": [],
      "source": [
        "import tensorflow\n",
        "import numpy as np\n",
        "import datetime\n",
        "import os\n",
        "import shutil\n",
        "\n",
        "from tensorflow.keras.preprocessing.image import  ImageDataGenerator\n",
        "\n",
        "from tensorflow.keras.models import Sequential\n",
        "from tensorflow.keras import layers\n",
        "from tensorflow.keras.layers import Conv2D, MaxPool2D,Flatten,Dense,Dropout"
      ]
    },
    {
      "cell_type": "code",
      "execution_count": null,
      "metadata": {
        "colab": {
          "base_uri": "https://localhost:8080/",
          "height": 235
        },
        "id": "V1laQZ9erZxU",
        "outputId": "764d26a6-09b3-41ee-8f7b-a7f7dbafa87f"
      },
      "source": [
        "dir1 = '/content/content/sign'\n",
        "dir2 = '/content/drive/MyDrive/Colab_Notebooks/Train/Train_sign'\n",
        "dir3 = '/content/drive/MyDrive/Colab_Notebooks/Valid/Valid_sign'\n",
        "\n",
        "dir_list = os.listdir(dir1)\n",
        "dir_list.sort()\n",
        "\n",
        "for img in dir_list[:25001]:\n",
        "  shutil.move(os.path.join(dir1,img), os.path.join(dir2,img))\n",
        "\n",
        "for img in dir_list[25001:]:\n",
        "  shutil.move(os.path.join(dir1,img), os.path.join(dir3,img))"
      ]
    },
    {
      "cell_type": "code",
      "execution_count": null,
      "metadata": {
        "id": "Ft6HIgDhrmxn"
      },
      "outputs": [],
      "source": [
        "#dir1 = '/content/content/unsign'\n",
        "#dir2 = '/content/drive/MyDrive/Colab_Notebooks/Train/Train_unsign'\n",
        "#dir3 = '/content/drive/MyDrive/Colab_Notebooks/Valid/Valid_unsign'\n",
        "\n",
        "#dir_list = os.listdir(dir1)\n",
        "#dir_list.sort()\n",
        "\n",
        "#for img in dir_list[:25001]:\n",
        "#  shutil.move(os.path.join(dir1,img), os.path.join(dir2,img))\n",
        "\n",
        "#for img in dir_list[25001:]:\n",
        "#  shutil.move(os.path.join(dir1,img), os.path.join(dir3,img))"
      ]
    },
    {
      "cell_type": "code",
      "execution_count": null,
      "metadata": {
        "colab": {
          "base_uri": "https://localhost:8080/"
        },
        "id": "5AEsIxgMsTfF",
        "outputId": "a9dbf60e-8538-4f13-8a9c-c5384464cdb2"
      },
      "outputs": [
        {
          "name": "stdout",
          "output_type": "stream",
          "text": [
            "23489\n",
            "23489\n",
            "1000\n",
            "1000\n"
          ]
        }
      ],
      "source": [
        "print(len(os.listdir(\"/content/train/Signed\")))\n",
        "print(len(os.listdir(\"/content/train/Unsigned\")))\n",
        "print(len(os.listdir(\"/content/val/Signed\")))\n",
        "print(len(os.listdir(\"/content/val/Unsigned\")))"
      ]
    },
    {
      "cell_type": "code",
      "execution_count": null,
      "metadata": {
        "colab": {
          "base_uri": "https://localhost:8080/"
        },
        "id": "0uIFQBu4wV8X",
        "outputId": "92347571-1047-48ec-865f-0015d18cd85a"
      },
      "outputs": [
        {
          "output_type": "stream",
          "name": "stdout",
          "text": [
            "Found 0 images belonging to 2 classes.\n",
            "Found 0 images belonging to 2 classes.\n"
          ]
        }
      ],
      "source": [
        "train_data_gen=ImageDataGenerator(rescale=1/255)\n",
        "validation_data_gen=ImageDataGenerator(rescale=1/255)\n",
        "\n",
        "train_gen=train_data_gen.flow_from_directory(\n",
        "    '/content/train',\n",
        "    classes=['Signed','Unsigned'],\n",
        "    target_size=(256,256),\n",
        "    batch_size=64,\n",
        "    class_mode='binary',\n",
        "    shuffle=True\n",
        ")\n",
        "\n",
        "val_gen=train_data_gen.flow_from_directory(\n",
        "    '/content/val',\n",
        "    classes=['Signed','Unsigned'],\n",
        "    target_size=(256,256),\n",
        "    batch_size=64,\n",
        "    class_mode='binary',\n",
        "    shuffle=True\n",
        ")"
      ]
    },
    {
      "cell_type": "code",
      "execution_count": null,
      "metadata": {
        "id": "nmluy6CxybU2"
      },
      "outputs": [],
      "source": [
        "from tensorflow.keras import models\n",
        "model = models.Sequential()\n",
        "model.add(layers.Conv2D(128, (3, 3),padding=\"same\",activation='relu', input_shape=(256,256,3)))\n",
        "model.add(layers.MaxPooling2D((2, 2)))\n",
        "model.add(layers.Conv2D(64, (3, 3),padding=\"same\" ,activation='relu'))\n",
        "model.add(layers.MaxPooling2D((2, 2)))\n",
        "model.add(layers.Conv2D(64, (3, 3),padding=\"same\" ,activation='relu'))\n",
        "model.add(layers.MaxPooling2D((2, 2)))\n",
        "model.add(layers.Conv2D(32, (3, 3),padding=\"same\" ,activation='relu'))\n",
        "model.add(layers.MaxPooling2D((2, 2)))\n",
        "model.add(layers.Conv2D(64, (3, 3),padding=\"same\" ,activation='relu'))\n",
        "model.add(layers.MaxPooling2D((2, 2)))\n",
        "model.add(layers.Conv2D(32, (3, 3),padding=\"same\" ,activation='relu'))\n",
        "model.add(layers.MaxPooling2D((2, 2)))\n",
        "model.add(layers.Conv2D(64, (3, 3),padding=\"same\" ,activation='relu'))\n",
        "model.add(layers.MaxPooling2D((2, 2)))\n",
        "model.add(Flatten())\n",
        "model.add(Dense(128,activation='relu'))\n",
        "model.add(Dropout(0.2))\n",
        "model.add(Dense(64,activation='relu'))\n",
        "model.add(Dropout(0.2))\n",
        "model.add(Dense(1,activation='sigmoid'))"
      ]
    },
    {
      "cell_type": "code",
      "execution_count": null,
      "metadata": {
        "colab": {
          "base_uri": "https://localhost:8080/"
        },
        "id": "WsY4XarVybjh",
        "outputId": "94314534-5ccf-43a9-dc42-1f021d5173aa"
      },
      "outputs": [
        {
          "name": "stdout",
          "output_type": "stream",
          "text": [
            "Model: \"sequential\"\n",
            "_________________________________________________________________\n",
            " Layer (type)                Output Shape              Param #   \n",
            "=================================================================\n",
            " conv2d (Conv2D)             (None, 256, 256, 128)     3584      \n",
            "                                                                 \n",
            " max_pooling2d (MaxPooling2D  (None, 128, 128, 128)    0         \n",
            " )                                                               \n",
            "                                                                 \n",
            " conv2d_1 (Conv2D)           (None, 128, 128, 64)      73792     \n",
            "                                                                 \n",
            " max_pooling2d_1 (MaxPooling  (None, 64, 64, 64)       0         \n",
            " 2D)                                                             \n",
            "                                                                 \n",
            " conv2d_2 (Conv2D)           (None, 64, 64, 64)        36928     \n",
            "                                                                 \n",
            " max_pooling2d_2 (MaxPooling  (None, 32, 32, 64)       0         \n",
            " 2D)                                                             \n",
            "                                                                 \n",
            " conv2d_3 (Conv2D)           (None, 32, 32, 32)        18464     \n",
            "                                                                 \n",
            " max_pooling2d_3 (MaxPooling  (None, 16, 16, 32)       0         \n",
            " 2D)                                                             \n",
            "                                                                 \n",
            " conv2d_4 (Conv2D)           (None, 16, 16, 64)        18496     \n",
            "                                                                 \n",
            " max_pooling2d_4 (MaxPooling  (None, 8, 8, 64)         0         \n",
            " 2D)                                                             \n",
            "                                                                 \n",
            " conv2d_5 (Conv2D)           (None, 8, 8, 32)          18464     \n",
            "                                                                 \n",
            " max_pooling2d_5 (MaxPooling  (None, 4, 4, 32)         0         \n",
            " 2D)                                                             \n",
            "                                                                 \n",
            " conv2d_6 (Conv2D)           (None, 4, 4, 64)          18496     \n",
            "                                                                 \n",
            " max_pooling2d_6 (MaxPooling  (None, 2, 2, 64)         0         \n",
            " 2D)                                                             \n",
            "                                                                 \n",
            " flatten (Flatten)           (None, 256)               0         \n",
            "                                                                 \n",
            " dense (Dense)               (None, 128)               32896     \n",
            "                                                                 \n",
            " dropout (Dropout)         (None, 128)               0         \n",
            "                                                                 \n",
            " dense_1 (Dense)             (None, 64)                8256      \n",
            "                                                                 \n",
            " dropout_1 (Dropout)         (None, 64)                0         \n",
            "                                                                 \n",
            " dense_2 (Dense)             (None, 1)                 65        \n",
            "                                                                 \n",
            "=================================================================\n",
            "Total params: 229,441\n",
            "Trainable params: 229,441\n",
            "Non-trainable params: 0\n",
            "_________________________________________________________________\n"
          ]
        }
      ],
      "source": [
        "model.summary()"
      ]
    },
    {
      "cell_type": "code",
      "execution_count": null,
      "metadata": {
        "id": "CGi5y7Tf3IGP"
      },
      "outputs": [],
      "source": [
        "model.compile(optimizer='adam',\n",
        "              loss=\"binary_crossentropy\",\n",
        "              metrics=['accuracy'])\n",
        "\n"
      ]
    },
    {
      "cell_type": "code",
      "execution_count": null,
      "metadata": {
        "colab": {
          "base_uri": "https://localhost:8080/"
        },
        "id": "twmytdQn39wM",
        "outputId": "6dcecd66-7038-432b-cce5-bb99fc46ec46"
      },
      "outputs": [
        {
          "name": "stdout",
          "output_type": "stream",
          "text": [
            "Epoch 1/10\n",
            "100/100 [==============================] - 54s 402ms/step - loss: 0.4925 - accuracy: 0.7866 - val_loss: 0.5000 - val_accuracy: 0.7790\n",
            "Epoch 2/10\n",
            "100/100 [==============================] - 40s 403ms/step - loss: 0.3916 - accuracy: 0.8428 - val_loss: 0.4478 - val_accuracy: 0.8075\n",
            "Epoch 3/10\n",
            "100/100 [==============================] - 41s 409ms/step - loss: 0.3767 - accuracy: 0.8477 - val_loss: 0.4198 - val_accuracy: 0.8480\n",
            "Epoch 4/10\n",
            "100/100 [==============================] - 40s 403ms/step - loss: 0.3464 - accuracy: 0.8702 - val_loss: 0.3484 - val_accuracy: 0.8535\n",
            "Epoch 5/10\n",
            "100/100 [==============================] - 41s 404ms/step - loss: 0.3405 - accuracy: 0.8662 - val_loss: 0.3664 - val_accuracy: 0.8520\n",
            "Epoch 6/10\n",
            "100/100 [==============================] - 41s 405ms/step - loss: 0.3233 - accuracy: 0.8757 - val_loss: 0.4402 - val_accuracy: 0.8105\n",
            "Epoch 7/10\n",
            "100/100 [==============================] - 41s 404ms/step - loss: 0.3105 - accuracy: 0.8772 - val_loss: 0.4121 - val_accuracy: 0.8465\n",
            "Epoch 8/10\n",
            "100/100 [==============================] - 40s 400ms/step - loss: 0.2901 - accuracy: 0.8894 - val_loss: 0.4912 - val_accuracy: 0.8270\n",
            "Epoch 9/10\n",
            "100/100 [==============================] - 41s 404ms/step - loss: 0.2727 - accuracy: 0.8983 - val_loss: 0.4124 - val_accuracy: 0.8335\n"
          ]
        }
      ],
      "source": [
        "early_stopping=tensorflow.keras.callbacks.EarlyStopping(monitor=\"val_accuracy\", patience=5)\n",
        "model_fit = model.fit(train_gen,\n",
        "                      steps_per_epoch=100,\n",
        "                     epochs = 10,\n",
        "                    verbose = 1,\n",
        "                     validation_data = val_gen,\n",
        "                      callbacks = early_stopping)"
      ]
    },
    {
      "cell_type": "code",
      "execution_count": null,
      "metadata": {
        "id": "JJzqf2QImPLL"
      },
      "outputs": [],
      "source": [
        "model.save(\"SignDL.h5\")"
      ]
    },
    {
      "cell_type": "code",
      "execution_count": null,
      "metadata": {
        "id": "4S1SC3tDnNOz",
        "colab": {
          "base_uri": "https://localhost:8080/"
        },
        "outputId": "3ae2671a-e2a3-4844-edfa-e21d4121e61a"
      },
      "outputs": [
        {
          "output_type": "stream",
          "name": "stdout",
          "text": [
            "replace Signed/1 (1).png? [y]es, [n]o, [A]ll, [N]one, [r]ename: y\n",
            "replace Signed/1 (10).png? [y]es, [n]o, [A]ll, [N]one, [r]ename: n\n",
            "replace Signed/1 (100).png? [y]es, [n]o, [A]ll, [N]one, [r]ename: "
          ]
        }
      ],
      "source": [
        "!unzip -q \"/content/drive/MyDrive/Final Dataset 2034016/inference.zip\""
      ]
    },
    {
      "cell_type": "code",
      "execution_count": null,
      "metadata": {
        "colab": {
          "base_uri": "https://localhost:8080/"
        },
        "id": "lyucRdEcnqdO",
        "outputId": "b8c29dd1-2f07-4d44-bbf5-a05e2adbedc7"
      },
      "outputs": [
        {
          "output_type": "stream",
          "name": "stdout",
          "text": [
            "Found 6000 images belonging to 2 classes.\n"
          ]
        }
      ],
      "source": [
        "test=train_data_gen.flow_from_directory(\n",
        "    '/content',\n",
        "    classes=['Signed','Unsigned'],\n",
        "    target_size=(256,256),\n",
        "    batch_size=64,\n",
        "    class_mode='binary',\n",
        "    shuffle=True\n",
        ")"
      ]
    },
    {
      "cell_type": "code",
      "execution_count": null,
      "metadata": {
        "id": "9nB0kz4mn604"
      },
      "outputs": [],
      "source": [
        "from tensorflow.keras.models import load_model\n",
        "mod=load_model(\"/content/drive/MyDrive/Dineshkumar.h5\")\n"
      ]
    },
    {
      "cell_type": "code",
      "execution_count": null,
      "metadata": {
        "colab": {
          "base_uri": "https://localhost:8080/"
        },
        "id": "fL7i7ptBoLDh",
        "outputId": "2d7ed0d3-3e39-4d9f-e4b3-99de0c5e0f3b"
      },
      "outputs": [
        {
          "output_type": "stream",
          "name": "stdout",
          "text": [
            "94/94 [==============================] - 26s 156ms/step - loss: 0.1143 - accuracy: 0.9670\n"
          ]
        },
        {
          "output_type": "execute_result",
          "data": {
            "text/plain": [
              "[0.11433844268321991, 0.9670000076293945]"
            ]
          },
          "metadata": {},
          "execution_count": 15
        }
      ],
      "source": [
        "mod.evaluate(test)"
      ]
    }
  ],
  "metadata": {
    "accelerator": "GPU",
    "colab": {
      "provenance": []
    },
    "gpuClass": "standard",
    "kernelspec": {
      "display_name": "Python 3",
      "name": "python3"
    },
    "language_info": {
      "name": "python"
    }
  },
  "nbformat": 4,
  "nbformat_minor": 0
}
